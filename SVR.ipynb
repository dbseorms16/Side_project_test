{
 "cells": [
  {
   "cell_type": "code",
   "execution_count": 8,
   "metadata": {},
   "outputs": [],
   "source": [
    "from PIL import Image\n",
    "import shutil\n",
    "import pandas as pd\n",
    "import numpy as np\n",
    "import os\n",
    "import random\n",
    "import time\n",
    "import copy\n",
    "import cv2\n",
    "import matplotlib.pyplot as plt\n",
    "\n",
    "from sklearn.svm import SVR\n",
    "\n",
    "from sklearn.model_selection import GridSearchCV\n",
    "from sklearn.metrics import mean_squared_error\n",
    "from sklearn.metrics import mean_absolute_error\n",
    "from sklearn.model_selection import train_test_split\n",
    "\n",
    "import warnings\n",
    "warnings.filterwarnings('ignore')"
   ]
  },
  {
   "cell_type": "code",
   "execution_count": 3,
   "metadata": {},
   "outputs": [
    {
     "data": {
      "text/html": [
       "<div>\n",
       "<style scoped>\n",
       "    .dataframe tbody tr th:only-of-type {\n",
       "        vertical-align: middle;\n",
       "    }\n",
       "\n",
       "    .dataframe tbody tr th {\n",
       "        vertical-align: top;\n",
       "    }\n",
       "\n",
       "    .dataframe thead tr th {\n",
       "        text-align: left;\n",
       "    }\n",
       "</style>\n",
       "<table border=\"1\" class=\"dataframe\">\n",
       "  <thead>\n",
       "    <tr>\n",
       "      <th></th>\n",
       "      <th>GFD-6</th>\n",
       "      <th>GFD-12</th>\n",
       "      <th>GFD-20</th>\n",
       "      <th>GFD-30</th>\n",
       "      <th>GFD-40</th>\n",
       "      <th>GFD-50</th>\n",
       "      <th>GFD-70</th>\n",
       "      <th>GFD-100</th>\n",
       "      <th>GFD-140</th>\n",
       "      <th>GFD-200</th>\n",
       "      <th>GFD-270</th>\n",
       "      <th>Pan</th>\n",
       "      <th>Moisture</th>\n",
       "      <th>Active Clay</th>\n",
       "      <th>ASF Clay Content</th>\n",
       "      <th>AFS Grain Fineness No.</th>\n",
       "      <th>Compactability</th>\n",
       "      <th>Green Comp. Strength</th>\n",
       "      <th>Permeability No.</th>\n",
       "    </tr>\n",
       "  </thead>\n",
       "  <tbody>\n",
       "    <tr>\n",
       "      <th>0</th>\n",
       "      <td>0</td>\n",
       "      <td>0.0</td>\n",
       "      <td>0.0</td>\n",
       "      <td>0.16</td>\n",
       "      <td>1.36</td>\n",
       "      <td>5.94</td>\n",
       "      <td>18.55</td>\n",
       "      <td>16.95</td>\n",
       "      <td>2.39</td>\n",
       "      <td>0.27</td>\n",
       "      <td>0.08</td>\n",
       "      <td>0.0</td>\n",
       "      <td>2.59</td>\n",
       "      <td>7.52</td>\n",
       "      <td>8.60</td>\n",
       "      <td>58.827133</td>\n",
       "      <td>24.5</td>\n",
       "      <td>17.7</td>\n",
       "      <td>130.0</td>\n",
       "    </tr>\n",
       "    <tr>\n",
       "      <th>1</th>\n",
       "      <td>0</td>\n",
       "      <td>0.0</td>\n",
       "      <td>0.0</td>\n",
       "      <td>0.17</td>\n",
       "      <td>1.38</td>\n",
       "      <td>5.69</td>\n",
       "      <td>18.82</td>\n",
       "      <td>17.14</td>\n",
       "      <td>2.03</td>\n",
       "      <td>0.23</td>\n",
       "      <td>0.00</td>\n",
       "      <td>0.0</td>\n",
       "      <td>2.55</td>\n",
       "      <td>7.80</td>\n",
       "      <td>9.08</td>\n",
       "      <td>58.257809</td>\n",
       "      <td>24.5</td>\n",
       "      <td>17.7</td>\n",
       "      <td>124.0</td>\n",
       "    </tr>\n",
       "    <tr>\n",
       "      <th>2</th>\n",
       "      <td>0</td>\n",
       "      <td>0.0</td>\n",
       "      <td>0.0</td>\n",
       "      <td>0.28</td>\n",
       "      <td>2.51</td>\n",
       "      <td>7.16</td>\n",
       "      <td>13.81</td>\n",
       "      <td>17.64</td>\n",
       "      <td>3.75</td>\n",
       "      <td>0.32</td>\n",
       "      <td>0.00</td>\n",
       "      <td>0.0</td>\n",
       "      <td>2.60</td>\n",
       "      <td>7.52</td>\n",
       "      <td>9.06</td>\n",
       "      <td>59.652518</td>\n",
       "      <td>24.5</td>\n",
       "      <td>18.0</td>\n",
       "      <td>120.0</td>\n",
       "    </tr>\n",
       "    <tr>\n",
       "      <th>3</th>\n",
       "      <td>0</td>\n",
       "      <td>0.0</td>\n",
       "      <td>0.0</td>\n",
       "      <td>0.18</td>\n",
       "      <td>1.58</td>\n",
       "      <td>5.97</td>\n",
       "      <td>17.98</td>\n",
       "      <td>16.95</td>\n",
       "      <td>1.95</td>\n",
       "      <td>0.37</td>\n",
       "      <td>0.06</td>\n",
       "      <td>0.0</td>\n",
       "      <td>2.83</td>\n",
       "      <td>8.36</td>\n",
       "      <td>9.92</td>\n",
       "      <td>58.483570</td>\n",
       "      <td>24.5</td>\n",
       "      <td>19.8</td>\n",
       "      <td>132.0</td>\n",
       "    </tr>\n",
       "    <tr>\n",
       "      <th>4</th>\n",
       "      <td>0</td>\n",
       "      <td>0.0</td>\n",
       "      <td>0.0</td>\n",
       "      <td>0.20</td>\n",
       "      <td>1.54</td>\n",
       "      <td>6.24</td>\n",
       "      <td>18.48</td>\n",
       "      <td>16.76</td>\n",
       "      <td>1.88</td>\n",
       "      <td>0.26</td>\n",
       "      <td>0.00</td>\n",
       "      <td>0.0</td>\n",
       "      <td>3.00</td>\n",
       "      <td>8.64</td>\n",
       "      <td>9.28</td>\n",
       "      <td>57.791005</td>\n",
       "      <td>25.5</td>\n",
       "      <td>18.9</td>\n",
       "      <td>129.0</td>\n",
       "    </tr>\n",
       "  </tbody>\n",
       "</table>\n",
       "</div>"
      ],
      "text/plain": [
       "  GFD-6 GFD-12 GFD-20 GFD-30 GFD-40 GFD-50 GFD-70 GFD-100 GFD-140 GFD-200  \\\n",
       "0     0    0.0    0.0   0.16   1.36   5.94  18.55   16.95    2.39    0.27   \n",
       "1     0    0.0    0.0   0.17   1.38   5.69  18.82   17.14    2.03    0.23   \n",
       "2     0    0.0    0.0   0.28   2.51   7.16  13.81   17.64    3.75    0.32   \n",
       "3     0    0.0    0.0   0.18   1.58   5.97  17.98   16.95    1.95    0.37   \n",
       "4     0    0.0    0.0   0.20   1.54   6.24  18.48   16.76    1.88    0.26   \n",
       "\n",
       "  GFD-270  Pan Moisture Active Clay ASF Clay Content AFS Grain Fineness No.  \\\n",
       "0    0.08  0.0     2.59        7.52             8.60              58.827133   \n",
       "1    0.00  0.0     2.55        7.80             9.08              58.257809   \n",
       "2    0.00  0.0     2.60        7.52             9.06              59.652518   \n",
       "3    0.06  0.0     2.83        8.36             9.92              58.483570   \n",
       "4    0.00  0.0     3.00        8.64             9.28              57.791005   \n",
       "\n",
       "  Compactability Green Comp. Strength Permeability No.  \n",
       "0           24.5                 17.7            130.0  \n",
       "1           24.5                 17.7            124.0  \n",
       "2           24.5                 18.0            120.0  \n",
       "3           24.5                 19.8            132.0  \n",
       "4           25.5                 18.9            129.0  "
      ]
     },
     "execution_count": 3,
     "metadata": {},
     "output_type": "execute_result"
    }
   ],
   "source": [
    "# 데이터 받아오기\n",
    "data = pd.read_excel('../MoldingSand2/Data/Preprocessing/1and2_remove.xlsx',engine='openpyxl',sheet_name='Sheet3')\n",
    "\n",
    "# 데이터 추출\n",
    "df = data[['GFD-6', 'GFD-12', 'GFD-20', 'GFD-30', 'GFD-40', 'GFD-50', 'GFD-70',\n",
    "           'GFD-100', 'GFD-140', 'GFD-200', 'GFD-270', 'Pan', 'Moisture (% by wt)',\n",
    "           'Percent M.B. Active Clay', 'AFS Clay Content (% <20 µm)', 'AFS Grain Fineness No.',\n",
    "           'Compactability (%)', 'Green Comp. Strength (N/sq cm)', 'Permeability No.']]\n",
    "\n",
    "# column 이름 바꾸기\n",
    "df.columns = [['GFD-6', 'GFD-12', 'GFD-20', 'GFD-30', 'GFD-40', 'GFD-50', 'GFD-70',\n",
    "                 'GFD-100', 'GFD-140', 'GFD-200', 'GFD-270', 'Pan', 'Moisture',\n",
    "                'Active Clay', 'ASF Clay Content', 'AFS Grain Fineness No.',\n",
    "                'Compactability', 'Green Comp. Strength', 'Permeability No.']]\n",
    "\n",
    "df.head()"
   ]
  },
  {
   "cell_type": "code",
   "execution_count": 117,
   "metadata": {
    "scrolled": true
   },
   "outputs": [
    {
     "name": "stdout",
     "output_type": "stream",
     "text": [
      "(334, 12)\n",
      "(334,)\n"
     ]
    }
   ],
   "source": [
    "# data_0 = np.squeeze(df[['GFD-6']].to_numpy()) # 모두 0이라서 넣어줄 필요 없을듯\n",
    "data_1 = np.squeeze(df[['GFD-12']].to_numpy())\n",
    "data_2 = np.squeeze(df[['GFD-20']].to_numpy())\n",
    "data_3 = np.squeeze(df[['GFD-30']].to_numpy())\n",
    "data_4 = np.squeeze(df[['GFD-40']].to_numpy())\n",
    "data_5 = np.squeeze(df[['GFD-50']].to_numpy())\n",
    "data_6 = np.squeeze(df[['GFD-70']].to_numpy())\n",
    "data_7 = np.squeeze(df[['GFD-100']].to_numpy())\n",
    "data_8 = np.squeeze(df[['GFD-140']].to_numpy())\n",
    "data_9 = np.squeeze(df[['GFD-200']].to_numpy())\n",
    "data_10 = np.squeeze(df[['GFD-270']].to_numpy())\n",
    "data_11 = np.squeeze(df[['Pan']].to_numpy())\n",
    "data_12 = np.squeeze(df[['Moisture']].to_numpy()) # 12 - 13 같이 들어가니까 Loss가 더 낮아짐\n",
    "data_13 = np.squeeze(df[['Active Clay']].to_numpy()) # Loss를 낮추는데 역할을 한다!\n",
    "data_14 = np.squeeze(df[['ASF Clay Content']].to_numpy())\n",
    "data_15 = np.squeeze(df[['AFS Grain Fineness No.']].to_numpy())\n",
    "data_16 = np.squeeze(df[['Compactability']].to_numpy())\n",
    "data_17 = np.squeeze(df[['Green Comp. Strength']].to_numpy())\n",
    "data_18 = np.squeeze(df[['Permeability No.']].to_numpy())\n",
    "######################################################################################\n",
    "\n",
    "all_data_x = np.zeros((len(data_3),12))\n",
    "all_data_y = np.zeros((len(data_13),))\n",
    "\n",
    "# all_data_x[:,0] = data_1\n",
    "# all_data_x[:,1] = data_2\n",
    "# all_data_x[:,2] = data_3\n",
    "# all_data_x[:,3] = data_4\n",
    "# all_data_x[:,4] = data_5\n",
    "# all_data_x[:,5] = data_6\n",
    "# all_data_x[:,6] = data_7\n",
    "# all_data_x[:,7] = data_8\n",
    "# all_data_x[:,8] = data_9\n",
    "# all_data_x[:,9] = data_10\n",
    "# all_data_x[:,10] = data_11\n",
    "# all_data_x[:,11] = data_12\n",
    "# all_data_x[:,12] = data_13\n",
    "# all_data_x[:,13] = data_14\n",
    "# all_data_x[:,14] = data_15\n",
    "\n",
    "# for output1\n",
    "# all_data_x[:,0] = data_5\n",
    "# all_data_x[:,1] = data_6\n",
    "# all_data_x[:,2] = data_7\n",
    "# all_data_x[:,3] = data_8\n",
    "# all_data_x[:,4] = data_9\n",
    "# all_data_x[:,5] = data_10\n",
    "# all_data_x[:,6] = data_11\n",
    "# all_data_x[:,7] = data_12\n",
    "# all_data_x[:,8] = data_13\n",
    "# all_data_x[:,9] = data_14\n",
    "# all_data_x[:,10] = data_15\n",
    "\n",
    "#for output2\n",
    "# all_data_x[:,0] = data_1\n",
    "# all_data_x[:,1] = data_2\n",
    "# all_data_x[:,2] = data_3\n",
    "# all_data_x[:,3] = data_5\n",
    "# all_data_x[:,4] = data_7\n",
    "# all_data_x[:,5] = data_8\n",
    "# all_data_x[:,6] = data_9\n",
    "# all_data_x[:,7] = data_10\n",
    "# all_data_x[:,8] = data_11\n",
    "# all_data_x[:,9] = data_12\n",
    "# all_data_x[:,10] = data_13\n",
    "# all_data_x[:,11] = data_14\n",
    "# all_data_x[:,12] = data_15\n",
    "\n",
    "#for output3\n",
    "all_data_x[:,0] = data_3\n",
    "all_data_x[:,1] = data_5\n",
    "all_data_x[:,2] = data_6\n",
    "all_data_x[:,3] = data_7\n",
    "all_data_x[:,4] = data_8\n",
    "all_data_x[:,5] = data_9\n",
    "all_data_x[:,6] = data_10\n",
    "all_data_x[:,7] = data_11\n",
    "all_data_x[:,8] = data_12\n",
    "all_data_x[:,9] = data_13\n",
    "all_data_x[:,10] = data_14\n",
    "all_data_x[:,11] = data_15\n",
    "\n",
    "all_data_y = data_18 # 16, 17 ,18\n",
    "\n",
    "np.random.seed(5)\n",
    "\n",
    "index = np.arange(0, all_data_x.shape[0])\n",
    "np.random.shuffle(index)\n",
    "all_data_x = all_data_x[index]\n",
    "all_data_y = all_data_y[index]\n",
    "\n",
    "######################################################################################\n",
    "print(all_data_x.shape)\n",
    "print(all_data_y.shape)"
   ]
  },
  {
   "cell_type": "code",
   "execution_count": 118,
   "metadata": {},
   "outputs": [
    {
     "name": "stdout",
     "output_type": "stream",
     "text": [
      "(267, 12)\n",
      "<class 'numpy.ndarray'>\n",
      "(267,)\n",
      "<class 'numpy.ndarray'>\n"
     ]
    }
   ],
   "source": [
    "x_train, x_test, y_train, y_test = train_test_split(all_data_x, all_data_y, shuffle = False, test_size = 0.2) # test_size = 0.25\n",
    "\n",
    "print(x_train.shape) \n",
    "print(type(x_train)) \n",
    "print(y_train.shape) \n",
    "print(type(y_train)) "
   ]
  },
  {
   "cell_type": "code",
   "execution_count": 119,
   "metadata": {},
   "outputs": [],
   "source": [
    "mean_x = np.mean(x_train, axis = 0)   \n",
    "std_x = np.std(x_train, axis = 0)   \n",
    "\n",
    "mean_y = np.mean(y_train, axis = 0)   \n",
    "std_y = np.std(y_train, axis = 0)   "
   ]
  },
  {
   "cell_type": "code",
   "execution_count": 120,
   "metadata": {},
   "outputs": [],
   "source": [
    "x_train = (x_train - mean_x) / std_x\n",
    "# y_train = (y_train - mean_y) / std_y\n",
    "\n",
    "x_test = (x_test - mean_x) / std_x"
   ]
  },
  {
   "cell_type": "code",
   "execution_count": 121,
   "metadata": {},
   "outputs": [
    {
     "data": {
      "text/plain": [
       "SVR()"
      ]
     },
     "execution_count": 121,
     "metadata": {},
     "output_type": "execute_result"
    }
   ],
   "source": [
    "model = SVR(kernel = 'rbf') # \n",
    "model.fit(x_train, y_train)"
   ]
  },
  {
   "cell_type": "code",
   "execution_count": 122,
   "metadata": {},
   "outputs": [
    {
     "name": "stdout",
     "output_type": "stream",
     "text": [
      "mae:  5.771918181779466\n"
     ]
    }
   ],
   "source": [
    "y_pred = model.predict(x_test)\n",
    "y_true = y_test\n",
    "\n",
    "mae = mean_absolute_error(y_true, y_pred) \n",
    "print('mae: ', mae) "
   ]
  },
  {
   "cell_type": "code",
   "execution_count": 26,
   "metadata": {},
   "outputs": [
    {
     "data": {
      "text/plain": [
       "<matplotlib.legend.Legend at 0x2296a940408>"
      ]
     },
     "execution_count": 26,
     "metadata": {},
     "output_type": "execute_result"
    },
    {
     "data": {
      "image/png": "[encoded data removed]",
      "text/plain": [
       "<Figure size 864x288 with 1 Axes>"
      ]
     },
     "metadata": {
      "needs_background": "light"
     },
     "output_type": "display_data"
    }
   ],
   "source": [
    "fig = plt.figure( figsize = (12, 4) )\n",
    "chart = fig.add_subplot(1,1,1)\n",
    "chart.plot(y_true, marker='o', color='blue', label='real value')\n",
    "chart.plot(y_pred, marker='^', color='red', label='predict value')\n",
    "chart.set_title('real value vs predict value')\n",
    "plt.xlabel('index')\n",
    "plt.ylabel('real vs predict')\n",
    "plt.legend(loc = 'best')"
   ]
  },
  {
   "cell_type": "code",
   "execution_count": null,
   "metadata": {},
   "outputs": [],
   "source": []
  }
 ],
 "metadata": {
  "kernelspec": {
   "display_name": "Python 3",
   "language": "python",
   "name": "python3"
  },
  "language_info": {
   "codemirror_mode": {
    "name": "ipython",
    "version": 3
   },
   "file_extension": ".py",
   "mimetype": "text/x-python",
   "name": "python",
   "nbconvert_exporter": "python",
   "pygments_lexer": "ipython3",
   "version": "3.7.9"
  }
 },
 "nbformat": 4,
 "nbformat_minor": 4
}
