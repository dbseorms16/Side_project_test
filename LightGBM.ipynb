{
 "cells": [
  {
   "cell_type": "code",
   "execution_count": 155,
   "metadata": {},
   "outputs": [],
   "source": [
    "from PIL import Image\n",
    "import shutil\n",
    "import pandas as pd\n",
    "import numpy as np\n",
    "import os\n",
    "import random\n",
    "import time\n",
    "import copy\n",
    "import cv2\n",
    "import matplotlib.pyplot as plt\n",
    "\n",
    "from xgboost import XGBRegressor\n",
    "from xgboost import plot_importance, plot_tree\n",
    "\n",
    "\n",
    "\n",
    "from sklearn.model_selection import GridSearchCV\n",
    "from sklearn.metrics import mean_squared_error\n",
    "from sklearn.metrics import mean_absolute_error\n",
    "from sklearn.model_selection import train_test_split\n",
    "\n",
    "import warnings\n",
    "warnings.filterwarnings('ignore')"
   ]
  },
  {
   "cell_type": "code",
   "execution_count": 156,
   "metadata": {},
   "outputs": [
    {
     "data": {
      "text/html": [
       "<div>\n",
       "<style scoped>\n",
       "    .dataframe tbody tr th:only-of-type {\n",
       "        vertical-align: middle;\n",
       "    }\n",
       "\n",
       "    .dataframe tbody tr th {\n",
       "        vertical-align: top;\n",
       "    }\n",
       "\n",
       "    .dataframe thead tr th {\n",
       "        text-align: left;\n",
       "    }\n",
       "</style>\n",
       "<table border=\"1\" class=\"dataframe\">\n",
       "  <thead>\n",
       "    <tr>\n",
       "      <th></th>\n",
       "      <th>GFD-6</th>\n",
       "      <th>GFD-12</th>\n",
       "      <th>GFD-20</th>\n",
       "      <th>GFD-30</th>\n",
       "      <th>GFD-40</th>\n",
       "      <th>GFD-50</th>\n",
       "      <th>GFD-70</th>\n",
       "      <th>GFD-100</th>\n",
       "      <th>GFD-140</th>\n",
       "      <th>GFD-200</th>\n",
       "      <th>GFD-270</th>\n",
       "      <th>Pan</th>\n",
       "      <th>Moisture</th>\n",
       "      <th>Active Clay</th>\n",
       "      <th>ASF Clay Content</th>\n",
       "      <th>AFS Grain Fineness No.</th>\n",
       "      <th>Compactability</th>\n",
       "      <th>Green Comp. Strength</th>\n",
       "      <th>Permeability No.</th>\n",
       "    </tr>\n",
       "  </thead>\n",
       "  <tbody>\n",
       "    <tr>\n",
       "      <th>0</th>\n",
       "      <td>0</td>\n",
       "      <td>0.0</td>\n",
       "      <td>0.0</td>\n",
       "      <td>0.16</td>\n",
       "      <td>1.36</td>\n",
       "      <td>5.94</td>\n",
       "      <td>18.55</td>\n",
       "      <td>16.95</td>\n",
       "      <td>2.39</td>\n",
       "      <td>0.27</td>\n",
       "      <td>0.08</td>\n",
       "      <td>0.0</td>\n",
       "      <td>2.59</td>\n",
       "      <td>7.52</td>\n",
       "      <td>8.60</td>\n",
       "      <td>58.827133</td>\n",
       "      <td>24.5</td>\n",
       "      <td>17.7</td>\n",
       "      <td>130.0</td>\n",
       "    </tr>\n",
       "    <tr>\n",
       "      <th>1</th>\n",
       "      <td>0</td>\n",
       "      <td>0.0</td>\n",
       "      <td>0.0</td>\n",
       "      <td>0.17</td>\n",
       "      <td>1.38</td>\n",
       "      <td>5.69</td>\n",
       "      <td>18.82</td>\n",
       "      <td>17.14</td>\n",
       "      <td>2.03</td>\n",
       "      <td>0.23</td>\n",
       "      <td>0.00</td>\n",
       "      <td>0.0</td>\n",
       "      <td>2.55</td>\n",
       "      <td>7.80</td>\n",
       "      <td>9.08</td>\n",
       "      <td>58.257809</td>\n",
       "      <td>24.5</td>\n",
       "      <td>17.7</td>\n",
       "      <td>124.0</td>\n",
       "    </tr>\n",
       "    <tr>\n",
       "      <th>2</th>\n",
       "      <td>0</td>\n",
       "      <td>0.0</td>\n",
       "      <td>0.0</td>\n",
       "      <td>0.28</td>\n",
       "      <td>2.51</td>\n",
       "      <td>7.16</td>\n",
       "      <td>13.81</td>\n",
       "      <td>17.64</td>\n",
       "      <td>3.75</td>\n",
       "      <td>0.32</td>\n",
       "      <td>0.00</td>\n",
       "      <td>0.0</td>\n",
       "      <td>2.60</td>\n",
       "      <td>7.52</td>\n",
       "      <td>9.06</td>\n",
       "      <td>59.652518</td>\n",
       "      <td>24.5</td>\n",
       "      <td>18.0</td>\n",
       "      <td>120.0</td>\n",
       "    </tr>\n",
       "    <tr>\n",
       "      <th>3</th>\n",
       "      <td>0</td>\n",
       "      <td>0.0</td>\n",
       "      <td>0.0</td>\n",
       "      <td>0.18</td>\n",
       "      <td>1.58</td>\n",
       "      <td>5.97</td>\n",
       "      <td>17.98</td>\n",
       "      <td>16.95</td>\n",
       "      <td>1.95</td>\n",
       "      <td>0.37</td>\n",
       "      <td>0.06</td>\n",
       "      <td>0.0</td>\n",
       "      <td>2.83</td>\n",
       "      <td>8.36</td>\n",
       "      <td>9.92</td>\n",
       "      <td>58.483570</td>\n",
       "      <td>24.5</td>\n",
       "      <td>19.8</td>\n",
       "      <td>132.0</td>\n",
       "    </tr>\n",
       "    <tr>\n",
       "      <th>4</th>\n",
       "      <td>0</td>\n",
       "      <td>0.0</td>\n",
       "      <td>0.0</td>\n",
       "      <td>0.20</td>\n",
       "      <td>1.54</td>\n",
       "      <td>6.24</td>\n",
       "      <td>18.48</td>\n",
       "      <td>16.76</td>\n",
       "      <td>1.88</td>\n",
       "      <td>0.26</td>\n",
       "      <td>0.00</td>\n",
       "      <td>0.0</td>\n",
       "      <td>3.00</td>\n",
       "      <td>8.64</td>\n",
       "      <td>9.28</td>\n",
       "      <td>57.791005</td>\n",
       "      <td>25.5</td>\n",
       "      <td>18.9</td>\n",
       "      <td>129.0</td>\n",
       "    </tr>\n",
       "  </tbody>\n",
       "</table>\n",
       "</div>"
      ],
      "text/plain": [
       "  GFD-6 GFD-12 GFD-20 GFD-30 GFD-40 GFD-50 GFD-70 GFD-100 GFD-140 GFD-200  \\\n",
       "0     0    0.0    0.0   0.16   1.36   5.94  18.55   16.95    2.39    0.27   \n",
       "1     0    0.0    0.0   0.17   1.38   5.69  18.82   17.14    2.03    0.23   \n",
       "2     0    0.0    0.0   0.28   2.51   7.16  13.81   17.64    3.75    0.32   \n",
       "3     0    0.0    0.0   0.18   1.58   5.97  17.98   16.95    1.95    0.37   \n",
       "4     0    0.0    0.0   0.20   1.54   6.24  18.48   16.76    1.88    0.26   \n",
       "\n",
       "  GFD-270  Pan Moisture Active Clay ASF Clay Content AFS Grain Fineness No.  \\\n",
       "0    0.08  0.0     2.59        7.52             8.60              58.827133   \n",
       "1    0.00  0.0     2.55        7.80             9.08              58.257809   \n",
       "2    0.00  0.0     2.60        7.52             9.06              59.652518   \n",
       "3    0.06  0.0     2.83        8.36             9.92              58.483570   \n",
       "4    0.00  0.0     3.00        8.64             9.28              57.791005   \n",
       "\n",
       "  Compactability Green Comp. Strength Permeability No.  \n",
       "0           24.5                 17.7            130.0  \n",
       "1           24.5                 17.7            124.0  \n",
       "2           24.5                 18.0            120.0  \n",
       "3           24.5                 19.8            132.0  \n",
       "4           25.5                 18.9            129.0  "
      ]
     },
     "execution_count": 156,
     "metadata": {},
     "output_type": "execute_result"
    }
   ],
   "source": [
    "# 데이터 받아오기\n",
    "data = pd.read_excel('../MoldingSand2/Data/Preprocessing/1and2_remove.xlsx',engine='openpyxl',sheet_name='Sheet3')\n",
    "\n",
    "# 데이터 추출\n",
    "df = data[['GFD-6', 'GFD-12', 'GFD-20', 'GFD-30', 'GFD-40', 'GFD-50', 'GFD-70',\n",
    "           'GFD-100', 'GFD-140', 'GFD-200', 'GFD-270', 'Pan', 'Moisture (% by wt)',\n",
    "           'Percent M.B. Active Clay', 'AFS Clay Content (% <20 µm)', 'AFS Grain Fineness No.',\n",
    "           'Compactability (%)', 'Green Comp. Strength (N/sq cm)', 'Permeability No.']]\n",
    "\n",
    "# column 이름 바꾸기\n",
    "df.columns = [['GFD-6', 'GFD-12', 'GFD-20', 'GFD-30', 'GFD-40', 'GFD-50', 'GFD-70',\n",
    "                 'GFD-100', 'GFD-140', 'GFD-200', 'GFD-270', 'Pan', 'Moisture',\n",
    "                'Active Clay', 'ASF Clay Content', 'AFS Grain Fineness No.',\n",
    "                'Compactability', 'Green Comp. Strength', 'Permeability No.']]\n",
    "\n",
    "df.head()"
   ]
  },
  {
   "cell_type": "code",
   "execution_count": 179,
   "metadata": {
    "scrolled": true
   },
   "outputs": [
    {
     "name": "stdout",
     "output_type": "stream",
     "text": [
      "(334, 15)\n",
      "(334,)\n"
     ]
    }
   ],
   "source": [
    "# data_0 = np.squeeze(df[['GFD-6']].to_numpy()) # 모두 0이라서 넣어줄 필요 없을듯\n",
    "data_1 = np.squeeze(df[['GFD-12']].to_numpy())\n",
    "data_2 = np.squeeze(df[['GFD-20']].to_numpy())\n",
    "data_3 = np.squeeze(df[['GFD-30']].to_numpy())\n",
    "data_4 = np.squeeze(df[['GFD-40']].to_numpy())\n",
    "data_5 = np.squeeze(df[['GFD-50']].to_numpy())\n",
    "data_6 = np.squeeze(df[['GFD-70']].to_numpy())\n",
    "data_7 = np.squeeze(df[['GFD-100']].to_numpy())\n",
    "data_8 = np.squeeze(df[['GFD-140']].to_numpy())\n",
    "data_9 = np.squeeze(df[['GFD-200']].to_numpy())\n",
    "data_10 = np.squeeze(df[['GFD-270']].to_numpy())\n",
    "data_11 = np.squeeze(df[['Pan']].to_numpy())\n",
    "data_12 = np.squeeze(df[['Moisture']].to_numpy()) # 12 - 13 같이 들어가니까 Loss가 더 낮아짐\n",
    "data_13 = np.squeeze(df[['Active Clay']].to_numpy()) # Loss를 낮추는데 역할을 한다!\n",
    "data_14 = np.squeeze(df[['ASF Clay Content']].to_numpy())\n",
    "data_15 = np.squeeze(df[['AFS Grain Fineness No.']].to_numpy())\n",
    "data_16 = np.squeeze(df[['Compactability']].to_numpy())\n",
    "data_17 = np.squeeze(df[['Green Comp. Strength']].to_numpy())\n",
    "data_18 = np.squeeze(df[['Permeability No.']].to_numpy())\n",
    "######################################################################################\n",
    "\n",
    "all_data_x = np.zeros((len(data_3),15))\n",
    "all_data_y = np.zeros((len(data_13),))\n",
    "\n",
    "all_data_x[:,0] = data_1\n",
    "all_data_x[:,1] = data_2\n",
    "all_data_x[:,2] = data_3\n",
    "all_data_x[:,3] = data_4\n",
    "all_data_x[:,4] = data_5\n",
    "all_data_x[:,5] = data_6\n",
    "all_data_x[:,6] = data_7\n",
    "all_data_x[:,7] = data_8\n",
    "all_data_x[:,8] = data_9\n",
    "all_data_x[:,9] = data_10\n",
    "all_data_x[:,10] = data_11\n",
    "all_data_x[:,11] = data_12\n",
    "all_data_x[:,12] = data_13\n",
    "all_data_x[:,13] = data_14\n",
    "all_data_x[:,14] = data_15\n",
    "\n",
    "#16\n",
    "\n",
    "# all_data_x[:,0] = data_5\n",
    "# all_data_x[:,1] = data_6\n",
    "# all_data_x[:,2] = data_7\n",
    "# all_data_x[:,3] = data_8\n",
    "# all_data_x[:,4] = data_9\n",
    "# all_data_x[:,5] = data_10\n",
    "# all_data_x[:,6] = data_11\n",
    "# all_data_x[:,7] = data_12\n",
    "# all_data_x[:,8] = data_13\n",
    "# all_data_x[:,9] = data_14\n",
    "# all_data_x[:,10] = data_15\n",
    "\n",
    "\n",
    "#17\n",
    "# all_data_x[:,0] = data_5\n",
    "# all_data_x[:,1] = data_7\n",
    "# all_data_x[:,2] = data_8\n",
    "# all_data_x[:,3] = data_9\n",
    "# all_data_x[:,4] = data_10\n",
    "# all_data_x[:,5] = data_11\n",
    "# all_data_x[:,6] = data_12\n",
    "# all_data_x[:,7] = data_13\n",
    "# all_data_x[:,8] = data_14\n",
    "# all_data_x[:,9] = data_15\n",
    "\n",
    "#18\n",
    "# all_data_x[:,0] = data_3\n",
    "# all_data_x[:,1] = data_5\n",
    "# all_data_x[:,2] = data_6\n",
    "# all_data_x[:,3] = data_7\n",
    "# all_data_x[:,4] = data_8\n",
    "# all_data_x[:,5] = data_9\n",
    "# all_data_x[:,6] = data_10\n",
    "# all_data_x[:,7] = data_11\n",
    "# all_data_x[:,8] = data_12\n",
    "# all_data_x[:,9] = data_13\n",
    "# all_data_x[:,10] = data_14\n",
    "# all_data_x[:,11] = data_15\n",
    "\n",
    "\n",
    "# all_data_x[:,0] = data_1\n",
    "# all_data_x[:,1] = data_2\n",
    "# all_data_x[:,2] = data_3\n",
    "# all_data_x[:,3] = data_4\n",
    "# all_data_x[:,4] = data_5\n",
    "# all_data_x[:,5] = data_6\n",
    "# all_data_x[:,6] = data_8\n",
    "# all_data_x[:,7] = data_9\n",
    "# all_data_x[:,8] = data_10\n",
    "# all_data_x[:,9] = data_11\n",
    "# all_data_x[:,10] = data_12\n",
    "# all_data_x[:,11] = data_13\n",
    "# all_data_x[:,12] = data_14\n",
    "# all_data_x[:,13] = data_15\n",
    "\n",
    "\n",
    "all_data_y = data_18 # 16, 17 ,18\n",
    "\n",
    "np.random.seed(5)\n",
    "\n",
    "index = np.arange(0, all_data_x.shape[0])\n",
    "np.random.shuffle(index)\n",
    "all_data_x = all_data_x[index]\n",
    "all_data_y = all_data_y[index]\n",
    "\n",
    "\n",
    "\n",
    "# index = np.arange(0,all_data_y.shape[0])\n",
    "# np.random.shuffle(index)\n",
    "# # index = np.array([249, 282, 81, 182, 54, 314, 272, 5, 93, 287, 284, 126, 319, 59, 153, 248, 144, 136, 301, 315, 37, 317, 279, 193, 297, 289, 108, 285, 138, 161, 152, 172, 15, 168, 167, 156, 128, 34, 178, 298, 243, 333, 217, 290, 220, 51, 4, 318, 206, 70, 84, 120, 61, 169, 117, 187, 292, 26, 316, 157, 47, 185, 31, 23, 17, 39, 133, 76, 24, 281, 27, 236, 181, 22, 239, 310, 229, 44, 109, 73, 0, 18, 75, 271, 104, 52, 324, 55, 3, 203, 62, 189, 293, 332, 129, 33, 90, 111, 260, 174, 159, 89, 237, 264, 295, 224, 145, 215, 8, 124, 137, 322, 186, 96, 210, 234, 142, 118, 92, 25, 269, 115, 43, 71, 36, 80, 40, 280, 188, 274, 20, 238, 16, 207, 12, 170, 257, 261, 135, 303, 266, 155, 212, 85, 305, 173, 91, 164, 242, 321, 141, 77, 67, 13, 198, 202, 105, 256, 197, 291, 258, 176, 58, 125, 28, 101, 143, 225, 65, 196, 326, 6, 323, 213, 209, 10, 309, 110, 267, 286, 208, 312, 283, 112, 177, 56, 275, 246, 227, 252, 211, 329, 304, 165, 30, 191, 311, 204, 150, 139, 35, 240, 183, 123, 106, 331, 48, 38, 113, 232, 83, 49, 180, 78, 300, 268, 325, 87, 50, 41, 98, 306, 273, 60, 205, 162, 130, 219, 194, 259, 160, 241, 100, 184, 199, 64, 233, 122, 132, 86, 276, 200, 320, 254, 72, 278, 270, 251, 223, 244, 11, 95, 302, 102, 158, 107, 21, 151, 201, 330, 46, 195, 121, 45, 82, 231, 255, 57, 97, 2, 116, 214, 299, 32, 69, 245, 99, 222, 307, 131, 288, 226, 134, 313, 68, 127, 179, 14, 149, 218, 1, 228, 166, 147, 103, 66, 250, 235, 146, 190, 328, 79, 221, 327, 247, 263, 42, 9, 163, 253, 154, 114, 53, 171, 29, 88, 148, 262, 7, 140, 63, 294, 296, 175, 308, 277, 216, 74, 265, 19, 230, 94, 119, 192]) \n",
    "# all_data_x = all_data_x[index]\n",
    "# all_data_y = all_data_y[index]\n",
    "\n",
    "######################################################################################\n",
    "print(all_data_x.shape)\n",
    "print(all_data_y.shape)"
   ]
  },
  {
   "cell_type": "code",
   "execution_count": 180,
   "metadata": {},
   "outputs": [
    {
     "name": "stdout",
     "output_type": "stream",
     "text": [
      "(267, 15)\n",
      "<class 'numpy.ndarray'>\n",
      "(267,)\n",
      "<class 'numpy.ndarray'>\n"
     ]
    }
   ],
   "source": [
    "# col_names = ['GFD-6', 'GFD-12', 'GFD-20', 'GFD-30', 'GFD-40', 'GFD-50', 'GFD-70',\n",
    "#                  'GFD-100', 'GFD-140', 'GFD-200', 'GFD-270', 'Pan', 'Moisture',\n",
    "#                 'Active Clay', 'Clay Content', 'Grain Fineness No.']\n",
    "# all_data_x = pd.DataFrame(all_data_x, columns = col_names) # X를 행렬로 표현, 칼럼 이름 설정\n",
    "# all_data_x\n",
    "x_train, x_test, y_train, y_test = train_test_split(all_data_x, all_data_y, shuffle = False, test_size = 0.2) # test_size = 0.25\n",
    "###############################################################################################################\n",
    "# input_1 = pd.read_csv('../MoldingSand/Data/Preprocessing/data_generation_second/new_data_for_input_1.csv')\n",
    "# input_2 = pd.read_csv('../MoldingSand/Data/Preprocessing/data_generation_second/new_data_for_input_2.csv')\n",
    "# input_3 = pd.read_csv('../MoldingSand/Data/Preprocessing/data_generation_second/new_data_for_input_3.csv')\n",
    "# output = pd.read_csv('../MoldingSand/Data/Preprocessing/data_generation_second/new_data_for_output.csv')\n",
    "\n",
    "# np.random.seed(16)\n",
    "# index = np.arange(0, len(input_3))\n",
    "# np.random.shuffle(index)\n",
    "\n",
    "# input_1 = input_1.to_numpy()\n",
    "# input_2 = input_2.to_numpy()\n",
    "# input_3 = input_3.to_numpy()\n",
    "# output = output.to_numpy()\n",
    "\n",
    "# input_1 = input_1[index]\n",
    "# input_2 = input_2[index]\n",
    "# input_3 = input_3[index]\n",
    "# output = output[index]\n",
    "\n",
    "# x_train = np.concatenate((x_train,input_1[:25,:3]),axis =0)\n",
    "# x_train = np.concatenate((x_train,input_2[25:50,:3]),axis =0)\n",
    "# x_train = np.concatenate((x_train,input_3[50:75,:3]),axis =0)\n",
    "# x_train = np.concatenate((x_train,output[75:100,:3]),axis =0)\n",
    "\n",
    "# y_train = np.concatenate((y_train,input_1[:25,-1]),axis =0)\n",
    "# y_train = np.concatenate((y_train,input_2[25:50,-1]),axis =0)\n",
    "# y_train = np.concatenate((y_train,input_3[50:75,-1]),axis =0)\n",
    "# y_train = np.concatenate((y_train,output[75:100,-1]),axis =0)\n",
    "###############################################################################################################\n",
    "print(x_train.shape) \n",
    "print(type(x_train)) \n",
    "print(y_train.shape) \n",
    "print(type(y_train)) "
   ]
  },
  {
   "cell_type": "code",
   "execution_count": 181,
   "metadata": {},
   "outputs": [],
   "source": [
    "mean_x = np.mean(x_train, axis = 0)   \n",
    "std_x = np.std(x_train, axis = 0)   \n",
    "\n",
    "mean_y = np.mean(y_train, axis = 0)   \n",
    "std_y = np.std(y_train, axis = 0)   "
   ]
  },
  {
   "cell_type": "code",
   "execution_count": 182,
   "metadata": {},
   "outputs": [],
   "source": [
    "x_train = (x_train - mean_x) / std_x\n",
    "# y_train = (y_train - mean_y) / std_y\n",
    "\n",
    "x_test = (x_test - mean_x) / std_x"
   ]
  },
  {
   "cell_type": "code",
   "execution_count": 183,
   "metadata": {},
   "outputs": [],
   "source": [
    "from lightgbm import LGBMRegressor"
   ]
  },
  {
   "cell_type": "code",
   "execution_count": 172,
   "metadata": {},
   "outputs": [
    {
     "name": "stdout",
     "output_type": "stream",
     "text": [
      "Fitting 4 folds for each of 648 candidates, totalling 2592 fits\n"
     ]
    },
    {
     "name": "stderr",
     "output_type": "stream",
     "text": [
      "[Parallel(n_jobs=-1)]: Using backend LokyBackend with 20 concurrent workers.\n",
      "[Parallel(n_jobs=-1)]: Done   1 tasks      | elapsed:    0.0s\n",
      "[Parallel(n_jobs=-1)]: Done 288 tasks      | elapsed:    0.9s\n",
      "[Parallel(n_jobs=-1)]: Done 1100 tasks      | elapsed:    3.4s\n",
      "[Parallel(n_jobs=-1)]: Done 2232 tasks      | elapsed:    6.8s\n",
      "[Parallel(n_jobs=-1)]: Done 2553 out of 2592 | elapsed:    8.1s remaining:    0.0s\n",
      "[Parallel(n_jobs=-1)]: Done 2592 out of 2592 | elapsed:    8.3s finished\n"
     ]
    },
    {
     "name": "stdout",
     "output_type": "stream",
     "text": [
      "[LightGBM] [Warning] Accuracy may be bad since you didn't explicitly set num_leaves OR 2^max_depth > num_leaves. (num_leaves=31).\n"
     ]
    },
    {
     "data": {
      "text/plain": [
       "GridSearchCV(cv=4,\n",
       "             estimator=LGBMRegressor(learning_rate=0.05, n_estimators=200,\n",
       "                                     subsample=0.6),\n",
       "             n_jobs=-1,\n",
       "             param_grid={'learning_rate': [0.001, 0.01, 0.05, 0.1, 0.15, 0.2],\n",
       "                         'max_depth': [3, 4, 5, 6, 7, 8],\n",
       "                         'n_estimators': [200, 250, 300, 350, 400, 450],\n",
       "                         'subsample': [0.6, 0.8, 1.0]},\n",
       "             scoring='neg_mean_absolute_error', verbose=2)"
      ]
     },
     "execution_count": 172,
     "metadata": {},
     "output_type": "execute_result"
    }
   ],
   "source": [
    "model = LGBMRegressor(n_estimators=200, learning_rate = 0.05, subsample = 0.6)\n",
    "model_param_grid = {'n_estimators' : [200, 250, 300, 350, 400, 450],\n",
    "                    'learning_rate' : [0.001, 0.01, 0.05, 0.1, 0.15, 0.2],\n",
    "                    'max_depth' : [3, 4, 5, 6, 7 ,8],\n",
    "                    'subsample': [0.6, 0.8, 1.0]\n",
    "                   }\n",
    "\n",
    "model_grid = GridSearchCV(model,\n",
    "                          param_grid = model_param_grid,\n",
    "                          scoring = 'neg_mean_absolute_error', #make_score(mean_absolute_error, squared=False),\n",
    "                          n_jobs = -1,\n",
    "                          verbose = 2,\n",
    "                          cv = 4,\n",
    "                          refit = True\n",
    "                         )\n",
    "model_grid.fit(x_train, y_train)#, **{'eval_metric': 'mae'})"
   ]
  },
  {
   "cell_type": "code",
   "execution_count": 174,
   "metadata": {},
   "outputs": [
    {
     "data": {
      "text/html": [
       "<div>\n",
       "<style scoped>\n",
       "    .dataframe tbody tr th:only-of-type {\n",
       "        vertical-align: middle;\n",
       "    }\n",
       "\n",
       "    .dataframe tbody tr th {\n",
       "        vertical-align: top;\n",
       "    }\n",
       "\n",
       "    .dataframe thead th {\n",
       "        text-align: right;\n",
       "    }\n",
       "</style>\n",
       "<table border=\"1\" class=\"dataframe\">\n",
       "  <thead>\n",
       "    <tr style=\"text-align: right;\">\n",
       "      <th></th>\n",
       "      <th>mean_test_score</th>\n",
       "      <th>params</th>\n",
       "    </tr>\n",
       "  </thead>\n",
       "  <tbody>\n",
       "    <tr>\n",
       "      <th>0</th>\n",
       "      <td>-8.970901</td>\n",
       "      <td>{'learning_rate': 0.001, 'max_depth': 3, 'n_es...</td>\n",
       "    </tr>\n",
       "    <tr>\n",
       "      <th>1</th>\n",
       "      <td>-8.970901</td>\n",
       "      <td>{'learning_rate': 0.001, 'max_depth': 3, 'n_es...</td>\n",
       "    </tr>\n",
       "    <tr>\n",
       "      <th>2</th>\n",
       "      <td>-8.970901</td>\n",
       "      <td>{'learning_rate': 0.001, 'max_depth': 3, 'n_es...</td>\n",
       "    </tr>\n",
       "    <tr>\n",
       "      <th>3</th>\n",
       "      <td>-8.741096</td>\n",
       "      <td>{'learning_rate': 0.001, 'max_depth': 3, 'n_es...</td>\n",
       "    </tr>\n",
       "    <tr>\n",
       "      <th>4</th>\n",
       "      <td>-8.741096</td>\n",
       "      <td>{'learning_rate': 0.001, 'max_depth': 3, 'n_es...</td>\n",
       "    </tr>\n",
       "    <tr>\n",
       "      <th>...</th>\n",
       "      <td>...</td>\n",
       "      <td>...</td>\n",
       "    </tr>\n",
       "    <tr>\n",
       "      <th>643</th>\n",
       "      <td>-5.617140</td>\n",
       "      <td>{'learning_rate': 0.2, 'max_depth': 8, 'n_esti...</td>\n",
       "    </tr>\n",
       "    <tr>\n",
       "      <th>644</th>\n",
       "      <td>-5.617140</td>\n",
       "      <td>{'learning_rate': 0.2, 'max_depth': 8, 'n_esti...</td>\n",
       "    </tr>\n",
       "    <tr>\n",
       "      <th>645</th>\n",
       "      <td>-5.619275</td>\n",
       "      <td>{'learning_rate': 0.2, 'max_depth': 8, 'n_esti...</td>\n",
       "    </tr>\n",
       "    <tr>\n",
       "      <th>646</th>\n",
       "      <td>-5.619275</td>\n",
       "      <td>{'learning_rate': 0.2, 'max_depth': 8, 'n_esti...</td>\n",
       "    </tr>\n",
       "    <tr>\n",
       "      <th>647</th>\n",
       "      <td>-5.619275</td>\n",
       "      <td>{'learning_rate': 0.2, 'max_depth': 8, 'n_esti...</td>\n",
       "    </tr>\n",
       "  </tbody>\n",
       "</table>\n",
       "<p>648 rows × 2 columns</p>\n",
       "</div>"
      ],
      "text/plain": [
       "     mean_test_score                                             params\n",
       "0          -8.970901  {'learning_rate': 0.001, 'max_depth': 3, 'n_es...\n",
       "1          -8.970901  {'learning_rate': 0.001, 'max_depth': 3, 'n_es...\n",
       "2          -8.970901  {'learning_rate': 0.001, 'max_depth': 3, 'n_es...\n",
       "3          -8.741096  {'learning_rate': 0.001, 'max_depth': 3, 'n_es...\n",
       "4          -8.741096  {'learning_rate': 0.001, 'max_depth': 3, 'n_es...\n",
       "..               ...                                                ...\n",
       "643        -5.617140  {'learning_rate': 0.2, 'max_depth': 8, 'n_esti...\n",
       "644        -5.617140  {'learning_rate': 0.2, 'max_depth': 8, 'n_esti...\n",
       "645        -5.619275  {'learning_rate': 0.2, 'max_depth': 8, 'n_esti...\n",
       "646        -5.619275  {'learning_rate': 0.2, 'max_depth': 8, 'n_esti...\n",
       "647        -5.619275  {'learning_rate': 0.2, 'max_depth': 8, 'n_esti...\n",
       "\n",
       "[648 rows x 2 columns]"
      ]
     },
     "execution_count": 174,
     "metadata": {},
     "output_type": "execute_result"
    }
   ],
   "source": [
    "model_grid_df = pd.DataFrame(model_grid.cv_results_)\n",
    "model_grid_df.loc[:, ['mean_test_score', \"params\"]]"
   ]
  },
  {
   "cell_type": "code",
   "execution_count": 175,
   "metadata": {},
   "outputs": [
    {
     "name": "stdout",
     "output_type": "stream",
     "text": [
      "{'learning_rate': 0.01, 'max_depth': 6, 'n_estimators': 450, 'subsample': 0.6}\n",
      "{'learning_rate': 0.01, 'max_depth': 6, 'n_estimators': 450, 'subsample': 0.8}\n",
      "{'learning_rate': 0.01, 'max_depth': 6, 'n_estimators': 450, 'subsample': 1.0}\n"
     ]
    }
   ],
   "source": [
    "for i in range(648):\n",
    "    if model_grid_df.loc[:, ['rank_test_score', \"params\"]]['rank_test_score'][i] == 1:\n",
    "        print(model_grid_df.loc[:, ['rank_test_score', \"params\"]]['params'][i])"
   ]
  },
  {
   "cell_type": "code",
   "execution_count": 184,
   "metadata": {},
   "outputs": [
    {
     "name": "stdout",
     "output_type": "stream",
     "text": [
      "[LightGBM] [Warning] Accuracy may be bad since you didn't explicitly set num_leaves OR 2^max_depth > num_leaves. (num_leaves=31).\n"
     ]
    },
    {
     "data": {
      "text/plain": [
       "LGBMRegressor(learning_rate=0.01, max_depth=6, n_estimators=450, subsample=0.6)"
      ]
     },
     "execution_count": 184,
     "metadata": {},
     "output_type": "execute_result"
    }
   ],
   "source": [
    "# model_test = LGBMRegressor(learning_rate = 0.01,\n",
    "#                           max_depth = 5,\n",
    "#                           n_estimators = 300,\n",
    "#                           subsample = 0.6\n",
    "#                          )\n",
    "# 17\n",
    "# model_test = LGBMRegressor(learning_rate = 0.05,\n",
    "#                           max_depth = 6,\n",
    "#                           n_estimators = 250,\n",
    "#                           subsample = 0.6\n",
    "#                          )\n",
    "# 18\n",
    "model_test = LGBMRegressor(learning_rate = 0.01,\n",
    "                          max_depth = 6,\n",
    "                          n_estimators = 450,\n",
    "                          subsample = 0.6\n",
    "                         )\n",
    "\n",
    "model_test.fit(x_train, y_train)"
   ]
  },
  {
   "cell_type": "code",
   "execution_count": 185,
   "metadata": {},
   "outputs": [
    {
     "name": "stdout",
     "output_type": "stream",
     "text": [
      "mae:  4.666819229818046\n"
     ]
    }
   ],
   "source": [
    "y_pred = model_test.predict(x_test)\n",
    "y_true = y_test\n",
    "\n",
    "# y_pred = (y_pred * std_y) + mean_y \n",
    "\n",
    "mae = mean_absolute_error(y_true, y_pred) \n",
    "# mse = mean_squared_error(y_true, y_pred) \n",
    "# print('mse: ', mse)\n",
    "print('mae: ', mae) "
   ]
  },
  {
   "cell_type": "code",
   "execution_count": 186,
   "metadata": {},
   "outputs": [
    {
     "name": "stdout",
     "output_type": "stream",
     "text": [
      "[17:53:12] WARNING: src/objective/regression_obj.cu:152: reg:linear is now deprecated in favor of reg:squarederror.\n"
     ]
    },
    {
     "data": {
      "text/plain": [
       "XGBRegressor(max_depth=7, n_estimators=200, subsample=0.6)"
      ]
     },
     "execution_count": 186,
     "metadata": {},
     "output_type": "execute_result"
    }
   ],
   "source": [
    "###########################18########################\n",
    "model_test = XGBRegressor(learning_rate = 0.1,\n",
    "                          max_depth = 7,\n",
    "                          n_estimators = 200,\n",
    "                          subsample = 0.6\n",
    "                         )\n",
    "\n",
    "model_test.fit(x_train, y_train)"
   ]
  },
  {
   "cell_type": "code",
   "execution_count": 15,
   "metadata": {
    "scrolled": true
   },
   "outputs": [
    {
     "data": {
      "text/plain": [
       "<AxesSubplot:title={'center':'Feature importance'}, xlabel='F score', ylabel='Features'>"
      ]
     },
     "execution_count": 15,
     "metadata": {},
     "output_type": "execute_result"
    },
    {
     "data": {
      "image/png": "[encoded data removed]",
      "text/plain": [
       "<Figure size 432x288 with 1 Axes>"
      ]
     },
     "metadata": {
      "needs_background": "light"
     },
     "output_type": "display_data"
    }
   ],
   "source": [
    "plot_importance(model_test)\n",
    "# plot_importance(model)"
   ]
  },
  {
   "cell_type": "code",
   "execution_count": 16,
   "metadata": {},
   "outputs": [
    {
     "name": "stdout",
     "output_type": "stream",
     "text": [
      "mae:  4.645225069416103\n"
     ]
    }
   ],
   "source": [
    "y_pred = model_test.predict(x_test)\n",
    "y_true = y_test\n",
    "\n",
    "# y_pred = (y_pred * std_y) + mean_y \n",
    "\n",
    "mae = mean_absolute_error(y_true, y_pred) \n",
    "# mse = mean_squared_error(y_true, y_pred) \n",
    "# print('mse: ', mse)\n",
    "print('mae: ', mae) "
   ]
  },
  {
   "cell_type": "code",
   "execution_count": 17,
   "metadata": {},
   "outputs": [
    {
     "data": {
      "text/plain": [
       "<matplotlib.legend.Legend at 0x1e98bf0e808>"
      ]
     },
     "execution_count": 17,
     "metadata": {},
     "output_type": "execute_result"
    },
    {
     "data": {
      "image/png": "[encoded data removed]",
      "text/plain": [
       "<Figure size 864x288 with 1 Axes>"
      ]
     },
     "metadata": {
      "needs_background": "light"
     },
     "output_type": "display_data"
    }
   ],
   "source": [
    "fig = plt.figure( figsize = (12, 4) )\n",
    "chart = fig.add_subplot(1,1,1)\n",
    "chart.plot(y_true, marker='o', color='blue', label='real value')\n",
    "chart.plot(y_pred, marker='^', color='red', label='predict value')\n",
    "chart.set_title('real value vs predict value')\n",
    "plt.xlabel('index')\n",
    "plt.ylabel('real vs predict')\n",
    "plt.legend(loc = 'best')"
   ]
  },
  {
   "cell_type": "code",
   "execution_count": null,
   "metadata": {},
   "outputs": [],
   "source": []
  }
 ],
 "metadata": {
  "kernelspec": {
   "display_name": "Python 3",
   "language": "python",
   "name": "python3"
  },
  "language_info": {
   "codemirror_mode": {
    "name": "ipython",
    "version": 3
   },
   "file_extension": ".py",
   "mimetype": "text/x-python",
   "name": "python",
   "nbconvert_exporter": "python",
   "pygments_lexer": "ipython3",
   "version": "3.7.9"
  }
 },
 "nbformat": 4,
 "nbformat_minor": 4
}
