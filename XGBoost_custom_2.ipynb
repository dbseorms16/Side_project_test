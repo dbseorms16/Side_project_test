{
 "cells": [
  {
   "cell_type": "code",
   "execution_count": 1,
   "metadata": {},
   "outputs": [],
   "source": [
    "from PIL import Image\n",
    "import shutil\n",
    "import pandas as pd\n",
    "import numpy as np\n",
    "import os\n",
    "import random\n",
    "import time\n",
    "import copy\n",
    "import cv2\n",
    "import csv\n",
    "import matplotlib.pyplot as plt\n",
    "\n",
    "from xgboost import XGBRegressor\n",
    "from xgboost import plot_importance, plot_tree\n",
    "\n",
    "from sklearn.model_selection import GridSearchCV\n",
    "from sklearn.metrics import mean_squared_error\n",
    "from sklearn.metrics import mean_absolute_error\n",
    "from sklearn.metrics import make_scorer\n",
    "from sklearn.model_selection import train_test_split\n",
    "\n",
    "import warnings\n",
    "warnings.filterwarnings('ignore')"
   ]
  },
  {
   "cell_type": "code",
   "execution_count": 3,
   "metadata": {},
   "outputs": [],
   "source": [
    "# 데이터 받아오기\n",
    "data = pd.read_excel('../MoldingSand2/Data/Preprocessing/1and2_remove.xlsx',engine='openpyxl',sheet_name='Sheet3')\n",
    "\n",
    "# 데이터 추출\n",
    "df = data[['GFD-6', 'GFD-12', 'GFD-20', 'GFD-30', 'GFD-40', 'GFD-50', 'GFD-70',\n",
    "           'GFD-100', 'GFD-140', 'GFD-200', 'GFD-270', 'Pan', 'Moisture (% by wt)',\n",
    "           'Percent M.B. Active Clay', 'AFS Clay Content (% <20 µm)', 'AFS Grain Fineness No.',\n",
    "           'Compactability (%)', 'Green Comp. Strength (N/sq cm)', 'Permeability No.']]\n",
    "\n",
    "# column 이름 바꾸기\n",
    "df.columns = [['GFD-6', 'GFD-12', 'GFD-20', 'GFD-30', 'GFD-40', 'GFD-50', 'GFD-70',\n",
    "                 'GFD-100', 'GFD-140', 'GFD-200', 'GFD-270', 'Pan', 'Moisture',\n",
    "                'Active Clay', 'ASF Clay Content', 'AFS Grain Fineness No.',\n",
    "                'Compactability', 'Green Comp. Strength', 'Permeability No.']]\n",
    "\n",
    "# df.head()"
   ]
  },
  {
   "cell_type": "markdown",
   "metadata": {},
   "source": [
    "#### [0.00015 0.00003 0.00608 0.26895 1.67918 1.85447 3.71134 0.17033 0.01365 0.00684 0.00491 0.28462 0.44691 1.92900 2.37957]"
   ]
  },
  {
   "cell_type": "code",
   "execution_count": 11,
   "metadata": {
    "scrolled": true
   },
   "outputs": [
    {
     "name": "stdout",
     "output_type": "stream",
     "text": [
      "(334, 12)\n",
      "(334,)\n"
     ]
    }
   ],
   "source": [
    "data_1 = np.squeeze(df[['GFD-12']].to_numpy())\n",
    "data_2 = np.squeeze(df[['GFD-20']].to_numpy())\n",
    "data_3 = np.squeeze(df[['GFD-30']].to_numpy())\n",
    "data_4 = np.squeeze(df[['GFD-40']].to_numpy())\n",
    "data_5 = np.squeeze(df[['GFD-50']].to_numpy())\n",
    "data_6 = np.squeeze(df[['GFD-70']].to_numpy())\n",
    "data_7 = np.squeeze(df[['GFD-100']].to_numpy())\n",
    "data_8 = np.squeeze(df[['GFD-140']].to_numpy())\n",
    "data_9 = np.squeeze(df[['GFD-200']].to_numpy())\n",
    "data_10 = np.squeeze(df[['GFD-270']].to_numpy())\n",
    "data_11 = np.squeeze(df[['Pan']].to_numpy())\n",
    "data_12 = np.squeeze(df[['Moisture']].to_numpy()) # 12 - 13 같이 들어가니까 Loss가 더 낮아짐\n",
    "data_13 = np.squeeze(df[['Active Clay']].to_numpy()) # Loss를 낮추는데 역할을 한다!\n",
    "data_14 = np.squeeze(df[['ASF Clay Content']].to_numpy())\n",
    "data_15 = np.squeeze(df[['AFS Grain Fineness No.']].to_numpy())\n",
    "data_16 = np.squeeze(df[['Compactability']].to_numpy())\n",
    "data_17 = np.squeeze(df[['Green Comp. Strength']].to_numpy())\n",
    "data_18 = np.squeeze(df[['Permeability No.']].to_numpy())\n",
    "######################################################################################\n",
    "\n",
    "all_data_x = np.zeros((len(data_3),12))\n",
    "all_data_y = np.zeros((len(data_13),))\n",
    "\n",
    "# all_data_x[:,0] = data_1\n",
    "# all_data_x[:,1] = data_2\n",
    "# all_data_x[:,2] = data_3\n",
    "# all_data_x[:,3] = data_4\n",
    "# all_data_x[:,4] = data_5\n",
    "# all_data_x[:,5] = data_6\n",
    "# all_data_x[:,6] = data_7\n",
    "# all_data_x[:,7] = data_8\n",
    "# all_data_x[:,8] = data_9\n",
    "# all_data_x[:,9] = data_10\n",
    "# all_data_x[:,10] = data_11\n",
    "# all_data_x[:,11] = data_12\n",
    "# all_data_x[:,12] = data_13\n",
    "# all_data_x[:,13] = data_14\n",
    "# all_data_x[:,14] = data_15\n",
    "\n",
    "all_data_x[:,0] = data_4\n",
    "all_data_x[:,1] = data_5\n",
    "all_data_x[:,2] = data_6\n",
    "all_data_x[:,3] = data_7\n",
    "all_data_x[:,4] = data_8\n",
    "all_data_x[:,5] = data_9\n",
    "all_data_x[:,6] = data_10\n",
    "all_data_x[:,7] = data_11\n",
    "all_data_x[:,8] = data_12\n",
    "all_data_x[:,9] = data_13\n",
    "all_data_x[:,10] = data_14\n",
    "all_data_x[:,11] = data_15\n",
    "\n",
    "all_data_y = data_16 # 16, 17 ,18\n",
    "\n",
    "np.random.seed(5)\n",
    "\n",
    "index = np.arange(0, all_data_x.shape[0])\n",
    "np.random.shuffle(index)\n",
    "all_data_x = all_data_x[index]\n",
    "all_data_y = all_data_y[index]\n",
    "\n",
    "######################################################################################\n",
    "print(all_data_x.shape)\n",
    "print(all_data_y.shape)"
   ]
  },
  {
   "cell_type": "code",
   "execution_count": 12,
   "metadata": {},
   "outputs": [
    {
     "name": "stdout",
     "output_type": "stream",
     "text": [
      "(267, 12)\n",
      "<class 'numpy.ndarray'>\n",
      "(267,)\n",
      "<class 'numpy.ndarray'>\n"
     ]
    }
   ],
   "source": [
    "x_train, x_test, y_train, y_test = train_test_split(all_data_x, all_data_y, shuffle = False, test_size = 0.2) \n",
    "\n",
    "print(x_train.shape) \n",
    "print(type(x_train)) \n",
    "print(y_train.shape) \n",
    "print(type(y_train)) "
   ]
  },
  {
   "cell_type": "code",
   "execution_count": 13,
   "metadata": {},
   "outputs": [],
   "source": [
    "# var_ = np.zeros((15,),dtype = float)\n",
    "# var_[0] = np.var(x_train[:,0])\n",
    "# var_[1] = np.var(x_train[:,1])\n",
    "# var_[2] = np.var(x_train[:,2])\n",
    "# var_[3] = np.var(x_train[:,3])\n",
    "# var_[4] = np.var(x_train[:,4])\n",
    "# var_[5] = np.var(x_train[:,5])\n",
    "# var_[6] = np.var(x_train[:,6])\n",
    "# var_[7] = np.var(x_train[:,7])\n",
    "# var_[8] = np.var(x_train[:,8])\n",
    "# var_[9] = np.var(x_train[:,9])\n",
    "# var_[10] = np.var(x_train[:,10])\n",
    "# var_[11] = np.var(x_train[:,11])\n",
    "# var_[12] = np.var(x_train[:,12])\n",
    "# var_[13] = np.var(x_train[:,13])\n",
    "# var_[14]= np.var(x_train[:,14])\n",
    "\n",
    "# np.set_printoptions(formatter={'float_kind': lambda x: \"{0:0.5f}\".format(x)})\n",
    "# print(var_)"
   ]
  },
  {
   "cell_type": "code",
   "execution_count": 14,
   "metadata": {},
   "outputs": [],
   "source": [
    "mean_x = np.mean(x_train, axis = 0)   \n",
    "std_x = np.std(x_train, axis = 0)   \n",
    "\n",
    "mean_y = np.mean(y_train, axis = 0)   \n",
    "std_y = np.std(y_train, axis = 0)   "
   ]
  },
  {
   "cell_type": "code",
   "execution_count": 15,
   "metadata": {},
   "outputs": [],
   "source": [
    "x_train = (x_train - mean_x) / std_x\n",
    "# y_train = (y_train - mean_y) / std_y\n",
    "\n",
    "x_test = (x_test - mean_x) / std_x"
   ]
  },
  {
   "cell_type": "code",
   "execution_count": 16,
   "metadata": {},
   "outputs": [
    {
     "name": "stdout",
     "output_type": "stream",
     "text": [
      "Fitting 5 folds for each of 3600 candidates, totalling 18000 fits\n"
     ]
    },
    {
     "name": "stderr",
     "output_type": "stream",
     "text": [
      "[Parallel(n_jobs=-1)]: Using backend LokyBackend with 20 concurrent workers.\n",
      "[Parallel(n_jobs=-1)]: Done   1 tasks      | elapsed:    0.0s\n",
      "[Parallel(n_jobs=-1)]: Done 288 tasks      | elapsed:    0.8s\n",
      "[Parallel(n_jobs=-1)]: Done 1100 tasks      | elapsed:    3.3s\n",
      "[Parallel(n_jobs=-1)]: Done 2232 tasks      | elapsed:    6.8s\n",
      "[Parallel(n_jobs=-1)]: Done 3692 tasks      | elapsed:   12.0s\n",
      "[Parallel(n_jobs=-1)]: Done 5472 tasks      | elapsed:   23.2s\n",
      "[Parallel(n_jobs=-1)]: Done 6365 tasks      | elapsed:   33.7s\n",
      "[Parallel(n_jobs=-1)]: Done 7084 tasks      | elapsed:   42.0s\n",
      "[Parallel(n_jobs=-1)]: Done 8462 tasks      | elapsed:  1.0min\n",
      "[Parallel(n_jobs=-1)]: Done 9460 tasks      | elapsed:  1.3min\n",
      "[Parallel(n_jobs=-1)]: Done 11162 tasks      | elapsed:  1.7min\n",
      "[Parallel(n_jobs=-1)]: Done 13024 tasks      | elapsed:  2.0min\n",
      "[Parallel(n_jobs=-1)]: Done 15050 tasks      | elapsed:  2.4min\n",
      "[Parallel(n_jobs=-1)]: Done 17236 tasks      | elapsed:  2.8min\n"
     ]
    },
    {
     "name": "stdout",
     "output_type": "stream",
     "text": [
      "[13:38:56] WARNING: src/objective/regression_obj.cu:152: reg:linear is now deprecated in favor of reg:squarederror.\n"
     ]
    },
    {
     "name": "stderr",
     "output_type": "stream",
     "text": [
      "[Parallel(n_jobs=-1)]: Done 18000 out of 18000 | elapsed:  2.9min finished\n"
     ]
    },
    {
     "data": {
      "text/plain": [
       "GridSearchCV(cv=5, estimator=XGBRegressor(), n_jobs=-1,\n",
       "             param_grid={'learning_rate': [0.0001, 0.001, 0.01, 0.05, 0.1, 0.15,\n",
       "                                           0.2, 0.3],\n",
       "                         'max_depth': [2, 3, 4, 5, 6, 7, 8, 9, 10],\n",
       "                         'n_estimators': [150, 200, 250, 300, 350, 400, 450,\n",
       "                                          500, 550, 600],\n",
       "                         'subsample': [0.2, 0.4, 0.6, 0.8, 1.0]},\n",
       "             scoring='neg_mean_absolute_error', verbose=2)"
      ]
     },
     "execution_count": 16,
     "metadata": {},
     "output_type": "execute_result"
    }
   ],
   "source": [
    "# n_estimators = [150 ,200, 250, 300, 350, 400, 450, 500, 550, 600]\n",
    "# learning_rate = [0.0001, 0.001, 0.01, 0.05, 0.1, 0.15, 0.2, 0.3]\n",
    "# max_depth = [2, 3, 4, 5, 6, 7 ,8, 9, 10]\n",
    "# subsample = [0.2, 0.4, 0.6, 0.8, 1.0]\n",
    "\n",
    "\n",
    "model = XGBRegressor()\n",
    "model_param_grid = {'n_estimators' : [150 ,200, 250, 300, 350, 400, 450, 500, 550, 600],\n",
    "                    'learning_rate' : [0.0001, 0.001, 0.01, 0.05, 0.1, 0.15, 0.2, 0.3],\n",
    "                    'max_depth' : [2, 3, 4, 5, 6, 7 ,8, 9, 10],\n",
    "                    'subsample': [0.2, 0.4, 0.6, 0.8, 1.0]\n",
    "                   }\n",
    "# model_param_grid = {'n_estimators' : [200, 250, 300, 350, 400, 450],\n",
    "#                     'learning_rate' : [0.001, 0.01, 0.05, 0.1, 0.15, 0.2],\n",
    "#                     'max_depth' : [3, 4, 5, 6, 7 ,8],\n",
    "#                     'subsample': [0.6, 0.8, 1.0]\n",
    "#                    }\n",
    "\n",
    "model_grid = GridSearchCV(model,\n",
    "                          param_grid = model_param_grid,\n",
    "                          scoring = 'neg_mean_absolute_error', #make_score(mean_absolute_error, squared=False),\n",
    "                          n_jobs = -1,\n",
    "                          verbose = 2,\n",
    "                          cv = 5,\n",
    "                          refit = True\n",
    "                         )\n",
    "model_grid.fit(x_train, y_train)#, **{'eval_metric': 'mae'})"
   ]
  },
  {
   "cell_type": "code",
   "execution_count": 17,
   "metadata": {
    "scrolled": true
   },
   "outputs": [
    {
     "data": {
      "text/html": [
       "<div>\n",
       "<style scoped>\n",
       "    .dataframe tbody tr th:only-of-type {\n",
       "        vertical-align: middle;\n",
       "    }\n",
       "\n",
       "    .dataframe tbody tr th {\n",
       "        vertical-align: top;\n",
       "    }\n",
       "\n",
       "    .dataframe thead th {\n",
       "        text-align: right;\n",
       "    }\n",
       "</style>\n",
       "<table border=\"1\" class=\"dataframe\">\n",
       "  <thead>\n",
       "    <tr style=\"text-align: right;\">\n",
       "      <th></th>\n",
       "      <th>mean_test_score</th>\n",
       "      <th>rank_test_score</th>\n",
       "      <th>params</th>\n",
       "    </tr>\n",
       "  </thead>\n",
       "  <tbody>\n",
       "    <tr>\n",
       "      <th>0</th>\n",
       "      <td>-31.855143</td>\n",
       "      <td>3592</td>\n",
       "      <td>{'learning_rate': 0.0001, 'max_depth': 2, 'n_e...</td>\n",
       "    </tr>\n",
       "    <tr>\n",
       "      <th>1</th>\n",
       "      <td>-31.849714</td>\n",
       "      <td>3583</td>\n",
       "      <td>{'learning_rate': 0.0001, 'max_depth': 2, 'n_e...</td>\n",
       "    </tr>\n",
       "    <tr>\n",
       "      <th>2</th>\n",
       "      <td>-31.848262</td>\n",
       "      <td>3565</td>\n",
       "      <td>{'learning_rate': 0.0001, 'max_depth': 2, 'n_e...</td>\n",
       "    </tr>\n",
       "    <tr>\n",
       "      <th>3</th>\n",
       "      <td>-31.847704</td>\n",
       "      <td>3556</td>\n",
       "      <td>{'learning_rate': 0.0001, 'max_depth': 2, 'n_e...</td>\n",
       "    </tr>\n",
       "    <tr>\n",
       "      <th>4</th>\n",
       "      <td>-31.848840</td>\n",
       "      <td>3574</td>\n",
       "      <td>{'learning_rate': 0.0001, 'max_depth': 2, 'n_e...</td>\n",
       "    </tr>\n",
       "    <tr>\n",
       "      <th>...</th>\n",
       "      <td>...</td>\n",
       "      <td>...</td>\n",
       "      <td>...</td>\n",
       "    </tr>\n",
       "    <tr>\n",
       "      <th>3595</th>\n",
       "      <td>-2.759824</td>\n",
       "      <td>2564</td>\n",
       "      <td>{'learning_rate': 0.3, 'max_depth': 10, 'n_est...</td>\n",
       "    </tr>\n",
       "    <tr>\n",
       "      <th>3596</th>\n",
       "      <td>-2.153126</td>\n",
       "      <td>2072</td>\n",
       "      <td>{'learning_rate': 0.3, 'max_depth': 10, 'n_est...</td>\n",
       "    </tr>\n",
       "    <tr>\n",
       "      <th>3597</th>\n",
       "      <td>-2.150073</td>\n",
       "      <td>2057</td>\n",
       "      <td>{'learning_rate': 0.3, 'max_depth': 10, 'n_est...</td>\n",
       "    </tr>\n",
       "    <tr>\n",
       "      <th>3598</th>\n",
       "      <td>-1.944464</td>\n",
       "      <td>760</td>\n",
       "      <td>{'learning_rate': 0.3, 'max_depth': 10, 'n_est...</td>\n",
       "    </tr>\n",
       "    <tr>\n",
       "      <th>3599</th>\n",
       "      <td>-1.914217</td>\n",
       "      <td>390</td>\n",
       "      <td>{'learning_rate': 0.3, 'max_depth': 10, 'n_est...</td>\n",
       "    </tr>\n",
       "  </tbody>\n",
       "</table>\n",
       "<p>3600 rows × 3 columns</p>\n",
       "</div>"
      ],
      "text/plain": [
       "      mean_test_score  rank_test_score  \\\n",
       "0          -31.855143             3592   \n",
       "1          -31.849714             3583   \n",
       "2          -31.848262             3565   \n",
       "3          -31.847704             3556   \n",
       "4          -31.848840             3574   \n",
       "...               ...              ...   \n",
       "3595        -2.759824             2564   \n",
       "3596        -2.153126             2072   \n",
       "3597        -2.150073             2057   \n",
       "3598        -1.944464              760   \n",
       "3599        -1.914217              390   \n",
       "\n",
       "                                                 params  \n",
       "0     {'learning_rate': 0.0001, 'max_depth': 2, 'n_e...  \n",
       "1     {'learning_rate': 0.0001, 'max_depth': 2, 'n_e...  \n",
       "2     {'learning_rate': 0.0001, 'max_depth': 2, 'n_e...  \n",
       "3     {'learning_rate': 0.0001, 'max_depth': 2, 'n_e...  \n",
       "4     {'learning_rate': 0.0001, 'max_depth': 2, 'n_e...  \n",
       "...                                                 ...  \n",
       "3595  {'learning_rate': 0.3, 'max_depth': 10, 'n_est...  \n",
       "3596  {'learning_rate': 0.3, 'max_depth': 10, 'n_est...  \n",
       "3597  {'learning_rate': 0.3, 'max_depth': 10, 'n_est...  \n",
       "3598  {'learning_rate': 0.3, 'max_depth': 10, 'n_est...  \n",
       "3599  {'learning_rate': 0.3, 'max_depth': 10, 'n_est...  \n",
       "\n",
       "[3600 rows x 3 columns]"
      ]
     },
     "execution_count": 17,
     "metadata": {},
     "output_type": "execute_result"
    }
   ],
   "source": [
    "model_grid_df = pd.DataFrame(model_grid.cv_results_)\n",
    "# model_grid_df.loc[:, ['mean_test_score', \"params\"]]\n",
    "model_grid_df.loc[:, ['mean_test_score', \"rank_test_score\", \"params\"]]"
   ]
  },
  {
   "cell_type": "code",
   "execution_count": 18,
   "metadata": {},
   "outputs": [
    {
     "name": "stdout",
     "output_type": "stream",
     "text": [
      "{'learning_rate': 0.1, 'max_depth': 2, 'n_estimators': 150, 'subsample': 1.0}\n",
      "-1.853931714370482\n"
     ]
    }
   ],
   "source": [
    "for i in range(3600):\n",
    "    if model_grid_df.loc[:, ['mean_test_score', \"rank_test_score\", \"params\"]]['rank_test_score'][i] == 1:\n",
    "        print(model_grid_df.loc[:, ['mean_test_score', \"rank_test_score\", \"params\"]]['params'][i])\n",
    "        print(model_grid_df.loc[:, ['mean_test_score', \"rank_test_score\", \"params\"]]['mean_test_score'][i])"
   ]
  },
  {
   "cell_type": "code",
   "execution_count": 30,
   "metadata": {},
   "outputs": [
    {
     "name": "stdout",
     "output_type": "stream",
     "text": [
      "[13:16:30] WARNING: src/objective/regression_obj.cu:152: reg:linear is now deprecated in favor of reg:squarederror.\n"
     ]
    },
    {
     "data": {
      "text/plain": [
       "XGBRegressor(learning_rate=0.05, max_depth=2, n_estimators=250, subsample=0.2)"
      ]
     },
     "execution_count": 30,
     "metadata": {},
     "output_type": "execute_result"
    }
   ],
   "source": [
    "###########################16########################\n",
    "# for all feature\n",
    "# model_test = XGBRegressor(learning_rate = 0.3,\n",
    "#                           max_depth = 4,\n",
    "#                           n_estimators = 200,\n",
    "#                           subsample = 1.0\n",
    "#                          )\n",
    "###########################17########################\n",
    "# for all feature\n",
    "# model_test = XGBRegressor(learning_rate = 0.05,\n",
    "#                           max_depth = 3,\n",
    "#                           n_estimators = 400,\n",
    "#                           subsample = 0.8\n",
    "#                          )\n",
    "###########################18########################\n",
    "\n",
    "# for all feature\n",
    "model_test = XGBRegressor(learning_rate = 0.05,\n",
    "                          max_depth = 2,\n",
    "                          n_estimators = 250,\n",
    "                          subsample = 0.2\n",
    "                         )\n",
    "\n",
    "\n",
    "model_test.fit(x_train, y_train)"
   ]
  },
  {
   "cell_type": "code",
   "execution_count": 31,
   "metadata": {
    "scrolled": true
   },
   "outputs": [
    {
     "data": {
      "text/plain": [
       "<AxesSubplot:title={'center':'Feature importance'}, xlabel='F score', ylabel='Features'>"
      ]
     },
     "execution_count": 31,
     "metadata": {},
     "output_type": "execute_result"
    },
    {
     "data": {
      "image/png": "[encoded data removed]",
      "text/plain": [
       "<Figure size 432x288 with 1 Axes>"
      ]
     },
     "metadata": {
      "needs_background": "light"
     },
     "output_type": "display_data"
    }
   ],
   "source": [
    "plot_importance(model_test)\n",
    "# plot_importance(model)"
   ]
  },
  {
   "cell_type": "code",
   "execution_count": 32,
   "metadata": {},
   "outputs": [
    {
     "name": "stdout",
     "output_type": "stream",
     "text": [
      "mae:  4.993616246465427\n"
     ]
    }
   ],
   "source": [
    "y_pred = model_test.predict(x_test)\n",
    "y_true = y_test\n",
    "\n",
    "mae = mean_absolute_error(y_true, y_pred) \n",
    "\n",
    "print('mae: ', mae) "
   ]
  },
  {
   "cell_type": "code",
   "execution_count": 33,
   "metadata": {},
   "outputs": [
    {
     "data": {
      "text/plain": [
       "<matplotlib.legend.Legend at 0x280240cfd08>"
      ]
     },
     "execution_count": 33,
     "metadata": {},
     "output_type": "execute_result"
    },
    {
     "data": {
      "image/png": "[encoded data removed]",
      "text/plain": [
       "<Figure size 864x288 with 1 Axes>"
      ]
     },
     "metadata": {
      "needs_background": "light"
     },
     "output_type": "display_data"
    }
   ],
   "source": [
    "fig = plt.figure( figsize = (12, 4) )\n",
    "chart = fig.add_subplot(1,1,1)\n",
    "chart.plot(y_true, marker='o', color='blue', label='real value')\n",
    "chart.plot(y_pred, marker='^', color='red', label='predict value')\n",
    "chart.set_title('real value vs predict value')\n",
    "plt.xlabel('index')\n",
    "plt.ylabel('real vs predict')\n",
    "plt.legend(loc = 'best')"
   ]
  },
  {
   "cell_type": "code",
   "execution_count": null,
   "metadata": {},
   "outputs": [],
   "source": []
  }
 ],
 "metadata": {
  "kernelspec": {
   "display_name": "Python 3",
   "language": "python",
   "name": "python3"
  },
  "language_info": {
   "codemirror_mode": {
    "name": "ipython",
    "version": 3
   },
   "file_extension": ".py",
   "mimetype": "text/x-python",
   "name": "python",
   "nbconvert_exporter": "python",
   "pygments_lexer": "ipython3",
   "version": "3.7.9"
  }
 },
 "nbformat": 4,
 "nbformat_minor": 4
}
